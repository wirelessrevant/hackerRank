{
 "cells": [
  {
   "cell_type": "code",
   "execution_count": 2,
   "id": "2aaa9123",
   "metadata": {},
   "outputs": [
    {
     "name": "stdout",
     "output_type": "stream",
     "text": [
      "6 3\n",
      "1 3 2 6 1 2\n",
      "5\n"
     ]
    }
   ],
   "source": [
    "def divisibleSumPairs(n, k, ar):\n",
    "    # Write your code here\n",
    "    #x = a[0]\n",
    "    range_start=1\n",
    "    count=0\n",
    "    for i in range(0, len(ar)):\n",
    "        for j in range(1,len(ar)):\n",
    "            if(ar[i]+ar[j])%k == 0:\n",
    "                if(i<j):\n",
    "                    count+=1\n",
    "    return (count)\n",
    "        \n",
    "if __name__ == '__main__':\n",
    "    #fptr = open(os.environ['OUTPUT_PATH'], 'w')\n",
    "\n",
    "    first_multiple_input = input().rstrip().split()\n",
    "\n",
    "    n = int(first_multiple_input[0])\n",
    "\n",
    "    k = int(first_multiple_input[1])\n",
    "\n",
    "    ar = list(map(int, input().rstrip().split()))\n",
    "\n",
    "    result = divisibleSumPairs(n, k, ar)\n",
    "    print(result)\n",
    "\n"
   ]
  },
  {
   "cell_type": "code",
   "execution_count": null,
   "id": "e5e1b235",
   "metadata": {},
   "outputs": [],
   "source": []
  }
 ],
 "metadata": {
  "kernelspec": {
   "display_name": "Python 3 (ipykernel)",
   "language": "python",
   "name": "python3"
  },
  "language_info": {
   "codemirror_mode": {
    "name": "ipython",
    "version": 3
   },
   "file_extension": ".py",
   "mimetype": "text/x-python",
   "name": "python",
   "nbconvert_exporter": "python",
   "pygments_lexer": "ipython3",
   "version": "3.9.12"
  }
 },
 "nbformat": 4,
 "nbformat_minor": 5
}
