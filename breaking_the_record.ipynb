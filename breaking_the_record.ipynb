{
 "cells": [
  {
   "cell_type": "code",
   "execution_count": 2,
   "id": "5ec32e34",
   "metadata": {},
   "outputs": [
    {
     "name": "stdout",
     "output_type": "stream",
     "text": [
      "9\n",
      "10 5 20 20 4 5 2 25 1\n",
      "(2, 4)\n"
     ]
    }
   ],
   "source": [
    "import math\n",
    "import os\n",
    "import random\n",
    "import re\n",
    "import sys\n",
    "\n",
    "#\n",
    "# Complete the 'breakingRecords' function below.\n",
    "#\n",
    "# The function is expected to return an INTEGER_ARRAY.\n",
    "# The function accepts INTEGER_ARRAY scores as parameter.\n",
    "#\n",
    "\n",
    "def breakingRecords(scores):\n",
    "    # Write your code here\n",
    "    maxCounts = 0\n",
    "    leastCounts = 0\n",
    "    lo = scores[0]\n",
    "    hi = scores[0]\n",
    "    for i in range(0, len(scores)):\n",
    "        if scores[i] < lo:\n",
    "            leastCounts+=1\n",
    "            lo=scores[i]\n",
    "        elif scores[i] > hi:\n",
    "            maxCounts+=1\n",
    "            hi=scores[i]\n",
    "    return(maxCounts, leastCounts)\n",
    "        \n",
    "if __name__ == '__main__':\n",
    "    \n",
    "    n = int(input().strip())\n",
    "\n",
    "    scores = list(map(int, input().rstrip().split()))\n",
    "\n",
    "    result = breakingRecords(scores)\n",
    "    print(result)"
   ]
  },
  {
   "cell_type": "code",
   "execution_count": null,
   "id": "eb353de5",
   "metadata": {},
   "outputs": [],
   "source": []
  }
 ],
 "metadata": {
  "kernelspec": {
   "display_name": "Python 3 (ipykernel)",
   "language": "python",
   "name": "python3"
  },
  "language_info": {
   "codemirror_mode": {
    "name": "ipython",
    "version": 3
   },
   "file_extension": ".py",
   "mimetype": "text/x-python",
   "name": "python",
   "nbconvert_exporter": "python",
   "pygments_lexer": "ipython3",
   "version": "3.9.12"
  }
 },
 "nbformat": 4,
 "nbformat_minor": 5
}
