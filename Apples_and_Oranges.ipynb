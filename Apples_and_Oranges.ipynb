{
 "cells": [
  {
   "cell_type": "code",
   "execution_count": 6,
   "id": "e7c61ad3",
   "metadata": {},
   "outputs": [
    {
     "name": "stdout",
     "output_type": "stream",
     "text": [
      "7 11\n",
      "5 15\n",
      "3 2\n",
      "2 -2 1\n",
      "5 -6\n",
      "The count of apples and oranges is: 1 1\n"
     ]
    }
   ],
   "source": [
    "import sys\n",
    "\n",
    "def countApplesAndOranges(s, t, a, b, apples, oranges):\n",
    "    # Write your code here\n",
    "    apple_count = 0\n",
    "    orange_count = 0\n",
    "    for i in range(0, len(apples)):\n",
    "        if (a+apples[i] >= s and a+apples[i] <= t):\n",
    "            apple_count += 1\n",
    "    for i in range(0, len(oranges)):\n",
    "        if (b+oranges[i] >= s and b+oranges[i] <= t):\n",
    "            orange_count += 1\n",
    "    print (\"The count of apples and oranges is:\", apple_count, orange_count)\n",
    "\n",
    "s,t = input().strip().split(' ')\n",
    "s,t = [int(s),int(t)]\n",
    "a,b = input().strip().split(' ')\n",
    "a,b = [int(a),int(b)]\n",
    "#print(a)\n",
    "#print(b)\n",
    "m,n = input().strip().split(' ')\n",
    "m,n = [int(m),int(n)]\n",
    "apples = [int(apple_temp) for apple_temp in input().strip().split(' ')]\n",
    "oranges = [int(orange_temp) for orange_temp in input().strip().split(' ')]\n",
    "countApplesAndOranges(s, t, a, b, apples, oranges)"
   ]
  },
  {
   "cell_type": "code",
   "execution_count": null,
   "id": "cd1be7cb",
   "metadata": {},
   "outputs": [],
   "source": []
  }
 ],
 "metadata": {
  "kernelspec": {
   "display_name": "Python 3 (ipykernel)",
   "language": "python",
   "name": "python3"
  },
  "language_info": {
   "codemirror_mode": {
    "name": "ipython",
    "version": 3
   },
   "file_extension": ".py",
   "mimetype": "text/x-python",
   "name": "python",
   "nbconvert_exporter": "python",
   "pygments_lexer": "ipython3",
   "version": "3.9.12"
  }
 },
 "nbformat": 4,
 "nbformat_minor": 5
}
