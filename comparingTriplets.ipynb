{
 "cells": [
  {
   "cell_type": "code",
   "execution_count": 1,
   "id": "23713444",
   "metadata": {},
   "outputs": [
    {
     "name": "stdout",
     "output_type": "stream",
     "text": [
      "Enter Alice's score number 1\n",
      "12\n",
      "Enter Alice's score number 2\n",
      "4\n",
      "Enter Alice's score number 3\n",
      "19\n",
      "[12, 4, 19]\n",
      "Enter Bob's score number 1\n",
      "5\n",
      "Enter Bob's score number 2\n",
      "4\n",
      "Enter Bob's score number 3\n",
      "20\n",
      "The result is: [1, 1]\n"
     ]
    }
   ],
   "source": [
    "import math\n",
    "import os\n",
    "import random\n",
    "import re\n",
    "import sys\n",
    "\n",
    "#\n",
    "# Complete the 'compareTriplets' function below.\n",
    "#\n",
    "# The function is expected to return an INTEGER_ARRAY.\n",
    "# The function accepts following parameters:\n",
    "#  1. INTEGER_ARRAY a\n",
    "#  2. INTEGER_ARRAY b\n",
    "#\n",
    "\n",
    "def compareTriplets(a, b):\n",
    "    # Write your code here\n",
    "    apoints = 0\n",
    "    bpoints = 0\n",
    "    for i in range(3):\n",
    "        if a[i] > b[i]:\n",
    "            apoints += 1\n",
    "        elif b[i] > a[i]:\n",
    "            bpoints += 1\n",
    "    result_list = [apoints, bpoints]\n",
    "    return result_list\n",
    "    \n",
    "lst1 = []\n",
    "lst2 = []  \n",
    "# number of elements as input\n",
    "n = 3\n",
    "  \n",
    "# iterating till the range\n",
    "for i in range(0, n):\n",
    "    print(\"Enter Alice's score number\", i+1)\n",
    "    a = int(input())\n",
    "  \n",
    "    lst1.append(a) # adding the element\n",
    "      \n",
    "print(lst1)\n",
    "\n",
    "for i in range(0, n):\n",
    "    print(\"Enter Bob's score number\", i+1)\n",
    "    b = int(input())\n",
    "    \n",
    "    lst2.append(b)\n",
    "\n",
    "result = compareTriplets(lst1, lst2)\n",
    "print(\"The result is:\", result)"
   ]
  },
  {
   "cell_type": "code",
   "execution_count": null,
   "id": "12b5720f",
   "metadata": {},
   "outputs": [],
   "source": []
  },
  {
   "cell_type": "code",
   "execution_count": null,
   "id": "b091f296",
   "metadata": {},
   "outputs": [],
   "source": []
  }
 ],
 "metadata": {
  "kernelspec": {
   "display_name": "Python 3 (ipykernel)",
   "language": "python",
   "name": "python3"
  },
  "language_info": {
   "codemirror_mode": {
    "name": "ipython",
    "version": 3
   },
   "file_extension": ".py",
   "mimetype": "text/x-python",
   "name": "python",
   "nbconvert_exporter": "python",
   "pygments_lexer": "ipython3",
   "version": "3.9.12"
  }
 },
 "nbformat": 4,
 "nbformat_minor": 5
}
