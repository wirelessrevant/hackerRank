{
 "cells": [
  {
   "cell_type": "code",
   "execution_count": 1,
   "id": "b962d73e",
   "metadata": {},
   "outputs": [
    {
     "name": "stdout",
     "output_type": "stream",
     "text": [
      "1 3 5 7 9\n",
      "16 24\n"
     ]
    }
   ],
   "source": [
    "import math\n",
    "import os\n",
    "import random\n",
    "import re\n",
    "import sys\n",
    "\n",
    "def miniMaxSum(arr):\n",
    "    # Write your code here\n",
    "    arr.sort()\n",
    "    minSum=0\n",
    "    maxSum=0\n",
    "    for i in range(0, len(arr)-1):\n",
    "        minSum=minSum+arr[i]\n",
    "    for i in range(1,len(arr)):\n",
    "        maxSum=maxSum+arr[i]\n",
    "    print(minSum, maxSum)   \n",
    "    \n",
    "if __name__ == '__main__':\n",
    "\n",
    "    arr = list(map(int, input().rstrip().split()))\n",
    "\n",
    "    miniMaxSum(arr)\n"
   ]
  },
  {
   "cell_type": "code",
   "execution_count": null,
   "id": "7e8cabcb",
   "metadata": {},
   "outputs": [],
   "source": []
  }
 ],
 "metadata": {
  "kernelspec": {
   "display_name": "Python 3 (ipykernel)",
   "language": "python",
   "name": "python3"
  },
  "language_info": {
   "codemirror_mode": {
    "name": "ipython",
    "version": 3
   },
   "file_extension": ".py",
   "mimetype": "text/x-python",
   "name": "python",
   "nbconvert_exporter": "python",
   "pygments_lexer": "ipython3",
   "version": "3.9.12"
  }
 },
 "nbformat": 4,
 "nbformat_minor": 5
}
