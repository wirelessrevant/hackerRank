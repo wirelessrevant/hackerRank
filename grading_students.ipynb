{
 "cells": [
  {
   "cell_type": "code",
   "execution_count": 2,
   "id": "f15adfc9",
   "metadata": {},
   "outputs": [
    {
     "name": "stdout",
     "output_type": "stream",
     "text": [
      "5\n",
      "37\n",
      "38\n",
      "41\n",
      "50\n",
      "83\n",
      "[37, 40, 41, 50, 85]\n"
     ]
    }
   ],
   "source": [
    "#!/bin/python3\n",
    "\n",
    "import math\n",
    "import os\n",
    "import random\n",
    "import re\n",
    "import sys\n",
    "\n",
    "#\n",
    "# Complete the 'gradingStudents' function below.\n",
    "#\n",
    "# The function is expected to return an INTEGER_ARRAY.\n",
    "# The function accepts INTEGER_ARRAY grades as parameter.\n",
    "#\n",
    "\n",
    "def gradingStudents(grades):\n",
    "    # Write your code here\n",
    "    for i in range(0,len(grades)):\n",
    "        tempG = grades[i]\n",
    "        tempR = grades[i]%5\n",
    "        if(tempG < 38):\n",
    "            continue\n",
    "        elif(tempR==3):\n",
    "            grades[i] = tempG+2\n",
    "        elif(tempR==4):\n",
    "            grades[i] = tempG+1\n",
    "        else:\n",
    "            continue\n",
    "    return grades\n",
    "\n",
    "if __name__ == '__main__':\n",
    "    #fptr = open(os.environ['OUTPUT_PATH'], 'w')\n",
    "\n",
    "    grades_count = int(input().strip())\n",
    "\n",
    "    grades = []\n",
    "\n",
    "    for _ in range(grades_count):\n",
    "        grades_item = int(input().strip())\n",
    "        grades.append(grades_item)\n",
    "\n",
    "    result = gradingStudents(grades)\n",
    "    print(result)\n",
    "\n"
   ]
  },
  {
   "cell_type": "code",
   "execution_count": null,
   "id": "502c6e66",
   "metadata": {},
   "outputs": [],
   "source": []
  }
 ],
 "metadata": {
  "kernelspec": {
   "display_name": "Python 3 (ipykernel)",
   "language": "python",
   "name": "python3"
  },
  "language_info": {
   "codemirror_mode": {
    "name": "ipython",
    "version": 3
   },
   "file_extension": ".py",
   "mimetype": "text/x-python",
   "name": "python",
   "nbconvert_exporter": "python",
   "pygments_lexer": "ipython3",
   "version": "3.9.12"
  }
 },
 "nbformat": 4,
 "nbformat_minor": 5
}
