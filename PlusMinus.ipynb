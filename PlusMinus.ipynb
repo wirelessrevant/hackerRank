{
 "cells": [
  {
   "cell_type": "code",
   "execution_count": 2,
   "id": "df67c83c",
   "metadata": {},
   "outputs": [
    {
     "name": "stdout",
     "output_type": "stream",
     "text": [
      "Enter the number of elements in the list\n",
      "10\n",
      "Input the array element 1\n",
      "13\n",
      "Input the array element 2\n",
      "14\n",
      "Input the array element 3\n",
      "0\n",
      "Input the array element 4\n",
      "-65\n",
      "Input the array element 5\n",
      "-89\n",
      "Input the array element 6\n",
      "0\n",
      "Input the array element 7\n",
      "10\n",
      "Input the array element 8\n",
      "100\n",
      "Input the array element 9\n",
      "-44\n",
      "Input the array element 10\n",
      "0\n",
      "the positive ratio is 0.4\n",
      "the negative ratio is 0.3\n",
      "the zeroes ratio is 0.3\n",
      "None\n"
     ]
    }
   ],
   "source": [
    "#!/bin/python3\n",
    "\n",
    "import math\n",
    "import os\n",
    "import random\n",
    "import re\n",
    "import sys\n",
    "\n",
    "#\n",
    "# Complete the 'plusMinus' function below.\n",
    "#\n",
    "# The function accepts INTEGER_ARRAY arr as parameter.\n",
    "#\n",
    "\n",
    "def plusMinus(arr):\n",
    "    # Write your code here\n",
    "    positive_count = 0\n",
    "    negative_count = 0\n",
    "    zero_count = 0\n",
    "    for i in range(0,len(arr)):\n",
    "        if arr[i] > 0:\n",
    "            positive_count += 1\n",
    "        elif arr[i] < 0:\n",
    "            negative_count += 1\n",
    "        else:\n",
    "            zero_count += 1\n",
    "    print(\"the positive ratio is\", positive_count/len(arr))\n",
    "    print(\"the negative ratio is\", negative_count/len(arr))\n",
    "    print(\"the zeroes ratio is\", zero_count/len(arr))\n",
    "    \n",
    "if __name__ == '__main__':\n",
    "    lst1 = [] \n",
    "    print(\"Enter the number of elements in the list\")\n",
    "    n = int(input())\n",
    "    for i in range(0,n):\n",
    "        print(\"Input the array element\", i+1)\n",
    "        a = int(input())\n",
    "        lst1.append(a)\n",
    "        \n",
    "    #arr = list(map(int, input().rstrip().split()))\n",
    "result = plusMinus(lst1)\n",
    "print (result)\n"
   ]
  },
  {
   "cell_type": "code",
   "execution_count": null,
   "id": "65abdd12",
   "metadata": {},
   "outputs": [],
   "source": []
  }
 ],
 "metadata": {
  "kernelspec": {
   "display_name": "Python 3 (ipykernel)",
   "language": "python",
   "name": "python3"
  },
  "language_info": {
   "codemirror_mode": {
    "name": "ipython",
    "version": 3
   },
   "file_extension": ".py",
   "mimetype": "text/x-python",
   "name": "python",
   "nbconvert_exporter": "python",
   "pygments_lexer": "ipython3",
   "version": "3.9.12"
  }
 },
 "nbformat": 4,
 "nbformat_minor": 5
}
